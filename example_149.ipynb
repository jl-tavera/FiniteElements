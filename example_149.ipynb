{
 "cells": [
  {
   "cell_type": "markdown",
   "metadata": {},
   "source": [
    "# **ELEMENTOS FINITOS OLVER**"
   ]
  },
  {
   "cell_type": "markdown",
   "metadata": {},
   "source": [
    "## **Ejemplo 14.9**"
   ]
  },
  {
   "cell_type": "markdown",
   "metadata": {},
   "source": [
    "Let us describe how to set up the finite element approximation to such a boundary\n",
    "value problem. We begin with a very coarse triangulation of the plate, which will not give\n",
    "particularly accurate results, but does serve to illustrate how to go about assembling the\n",
    "finite element matrix. We divide the rectangular part of the plate into 8 right triangles,\n",
    "while each semicircular end will be approximated by three equilateral triangles. The triangles are numbered from 1 to 14 as indicated in Figure 14.12. There are 13 nodes in all,\n",
    "numbered as in the second figure. "
   ]
  },
  {
   "cell_type": "code",
   "execution_count": null,
   "metadata": {},
   "outputs": [],
   "source": [
    "import sys\n",
    "!{sys.executable} -m pip install --user numpy\n",
    "!{sys.executable} -m pip install --user matplotlib\n",
    "\n",
    "import matplotlib.pyplot as plt \n",
    "import numpy as np\n",
    "\n",
    "np.set_printoptions(suppress=True)"
   ]
  },
  {
   "cell_type": "markdown",
   "metadata": {},
   "source": [
    "Dibujamos el plato ovalado con las especificaciones del enunciado junto con la triangulación propuesta. "
   ]
  },
  {
   "cell_type": "code",
   "execution_count": 8,
   "metadata": {},
   "outputs": [
    {
     "data": {
      "image/png": "[encoded data removed]",
      "text/plain": [
       "<Figure size 640x480 with 1 Axes>"
      ]
     },
     "metadata": {},
     "output_type": "display_data"
    }
   ],
   "source": [
    "\n",
    "\n",
    "def oval_plate():\n",
    "    point1 = [0.5, 0]\n",
    "    point2 = [2.5, 0]\n",
    "\n",
    "    point3 = [0.5, 1]\n",
    "    point4 = [2.5, 1]\n",
    "\n",
    "    x_values1 = [point1[0], point2[0]]\n",
    "    y_values1 = [point1[1], point2[1]]\n",
    "\n",
    "    x_values2 = [point3[0], point4[0]]\n",
    "    y_values2 = [point3[1], point4[1]]\n",
    "\n",
    "\n",
    "    plt.plot(x_values1, y_values1, color=\"black\")\n",
    "    plt.plot(x_values2, y_values2, color=\"black\")\n",
    "    plt.axis('off')\n",
    "    plt.show()\n",
    "\n",
    "\n",
    "\n",
    "    \n",
    "    return None\n",
    "\n",
    "oval_plate()"
   ]
  },
  {
   "cell_type": "code",
   "execution_count": 12,
   "metadata": {},
   "outputs": [
    {
     "name": "stdout",
     "output_type": "stream",
     "text": [
      "([[0.5, 0.5], [1.0, 0.5], [1.5, 0.5], [1.0, 1.0], [0.5, 1.0], [0, 0], [0, 0], [0.5, 0], [1.0, 0], [1.5, 0], [0, 0], [0, 0], [1.5, 1.0]], [[1, 5, 6], [1, 6, 7], [1, 7, 8], [1, 5, 4], [1, 2, 4], [2, 3, 4], [3, 4, 13], [1, 8, 9], [1, 2, 9], [2, 3, 9], [3, 9, 10], [3, 12, 13], [3, 11, 12], [3, 11, 10]], 13, 14)\n"
     ]
    }
   ],
   "source": [
    "def pointsCoordenates():\n",
    "    points = []\n",
    "    triangles = []\n",
    "\n",
    "    point1 = [0.5, 0.5]\n",
    "    point2 = [1.0, 0.5]\n",
    "    point3 = [1.5, 0.5]\n",
    "    point4 = [1.0, 1.0]\n",
    "    point5 = [0.5, 1.0]\n",
    "    point6 = [0, 0]\n",
    "    point7 = [0, 0]\n",
    "    point8 = [0.5, 0]\n",
    "    point9 = [1.0, 0]\n",
    "    point10 = [1.5, 0]\n",
    "    point11 = [0, 0]\n",
    "    point12 = [0, 0]\n",
    "    point13 = [1.5, 1.0]\n",
    "\n",
    "    triangle1 = [1,5,6]\n",
    "    triangle2 = [1,6,7]\n",
    "    triangle3 = [1,7,8]\n",
    "    triangle4 = [1,5,4]\n",
    "    triangle5 = [1,2,4]\n",
    "    triangle6 = [2,3,4]\n",
    "    triangle7 = [3,4,13]\n",
    "    triangle8 = [1,8,9]\n",
    "    triangle9 = [1,2,9]\n",
    "    triangle10 = [2,3,9]\n",
    "    triangle11 = [3,9,10]\n",
    "    triangle12 = [3,12,13]\n",
    "    triangle13 = [3,11,12]\n",
    "    triangle14 = [3,11,10]\n",
    "\n",
    "    for i in range(1,14):\n",
    "         points.append(eval(\"point\" + str(i)))\n",
    "    \n",
    "    for i in range(1,15):\n",
    "         triangles.append(eval(\"triangle\" + str(i)))\n",
    "\n",
    "    return points, triangles\n",
    "    \n",
    "print(pointsCoordenates())"
   ]
  }
 ],
 "metadata": {
  "kernelspec": {
   "display_name": "Python 3.8.8 ('venv': venv)",
   "language": "python",
   "name": "python3"
  },
  "language_info": {
   "codemirror_mode": {
    "name": "ipython",
    "version": 3
   },
   "file_extension": ".py",
   "mimetype": "text/x-python",
   "name": "python",
   "nbconvert_exporter": "python",
   "pygments_lexer": "ipython3",
   "version": "3.8.8"
  },
  "orig_nbformat": 4,
  "vscode": {
   "interpreter": {
    "hash": "0240a0adbd4f2e3310a48703fa586567476bb8d4c523f860e84a58da96e73c71"
   }
  }
 },
 "nbformat": 4,
 "nbformat_minor": 2
}
