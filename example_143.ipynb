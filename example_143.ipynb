{
 "cells": [
  {
   "cell_type": "markdown",
   "metadata": {},
   "source": [
    "# **ELEMENTOS FINITOS OLVER**"
   ]
  },
  {
   "cell_type": "markdown",
   "metadata": {},
   "source": [
    "## **Ejemplo 14.3**"
   ]
  },
  {
   "cell_type": "markdown",
   "metadata": {},
   "source": [
    "El primer ejemplo que implementamos es el 14.3, que pide aproximar la solución del siguiente problema de condición de frontera "
   ]
  },
  {
   "cell_type": "markdown",
   "metadata": {},
   "source": [
    "$$  -\\frac{d}{dx}(x + 1) \\frac{du}{dx} = 1 \\quad \\quad \\quad  u(0)=0 \\quad \\quad \\quad  u(1)=0 $$"
   ]
  },
  {
   "cell_type": "markdown",
   "metadata": {},
   "source": [
    "Teóricamente sabemos que la solución está dada por"
   ]
  },
  {
   "cell_type": "markdown",
   "metadata": {},
   "source": [
    "$$ u(x) = -x + \\frac{\\log(x + 1)}{\\log 2}$$"
   ]
  },
  {
   "cell_type": "markdown",
   "metadata": {},
   "source": [
    "Para usar el método de elementos finitos en este problema de una variable, tomamos una partición regular del intervalo $[0,1]$"
   ]
  },
  {
   "cell_type": "markdown",
   "metadata": {},
   "source": [
    "$$0=x_{0}<x_{1}<...<x_{n}=1$$"
   ]
  },
  {
   "cell_type": "markdown",
   "metadata": {},
   "source": [
    "y consideramos todas las funciones en $[0,1]$ continuas y afines a trozos que no son derivables justo en los puntos de la partición, además por las condiciones de frontera, queremos que además cumplan ser nulas en 0 y 1. Este conjunto (que llamaremos $W$) forma un espacio vectorial de dimensión finita ($Dim(W)=n-1$), y es en dicho espacio donde queremos restringir nuestro problema de minimización del funcional $P[u]$. que en este caso está dado por:"
   ]
  },
  {
   "cell_type": "markdown",
   "metadata": {},
   "source": [
    "$$ \\mathcal{P}[u] = \\int_{0}^{l} [\\frac{1}{2}(x+1)u'(x^2) -u(x) ] dx    $$"
   ]
  },
  {
   "cell_type": "markdown",
   "metadata": {},
   "source": [
    "over all possible functions $ u \\in {C}^{1}$ that satisfy the given boundary conditions. The finite\n",
    "element system (14.7) has coefficient matrix given by (14.13) and right hand side (14.16),\n",
    "where"
   ]
  },
  {
   "cell_type": "markdown",
   "metadata": {},
   "source": [
    "$$ s_j = \\int_{x_j}^{x_{j + 1}} (1 + x)dx = h(1 + x_j) + \\frac{1}{2}h^2 = h + h^2(j + \\frac{1}{2} ) \\quad \\quad \\quad b_j = \\int_{x_j}^{x_{j + 1}} 1 dx = h$$"
   ]
  },
  {
   "cell_type": "markdown",
   "metadata": {},
   "source": [
    "Por lo tanto un elemento general de W, está determinado por constantes $c_{1},c_{2},...,c_{n-1}$.\n",
    "Nuestro problema de condición de frontera, quedaria reducido a encontrar dichas constantes, que serían la solución a un sistema lineal $(n-1)\\times(n-1)$:"
   ]
  },
  {
   "cell_type": "markdown",
   "metadata": {},
   "source": [
    "$$Mc=b$$"
   ]
  },
  {
   "cell_type": "markdown",
   "metadata": {},
   "source": [
    "Construyamos la Matrix tridiagonal M para cada uno de los tres casos.LLamemos a estas $M_1, M_2, M_3$ para $h_1 = 0.2, h_2 = 0.1, h_3 = 0.05$ respectivamente. Las dimensiones de estas serán: $M_1$ una matriz simétrica $4 \\times 4$, $M_2$ una matriz simétrica $9 \\times 9$ y $M_3$ una matriz simétrica $19 \\times 19$"
   ]
  },
  {
   "cell_type": "markdown",
   "metadata": {},
   "source": [
    "Instalamos el paquete de numpy en el Jupyter Notebook"
   ]
  },
  {
   "cell_type": "code",
   "execution_count": null,
   "metadata": {},
   "outputs": [],
   "source": [
    "import sys\n",
    "!{sys.executable} -m pip install --user numpy\n",
    "!{sys.executable} -m pip install --user matplotlib\n",
    "\n",
    "import matplotlib.pyplot as plt \n",
    "import numpy as np\n",
    "\n",
    "np.set_printoptions(suppress=True)"
   ]
  },
  {
   "cell_type": "markdown",
   "metadata": {},
   "source": [
    "Recordemos que la forma de la matriz tritiangular dado $ s_j = h + h^2(j + \\frac{1}{2}) $ es igual a:"
   ]
  },
  {
   "cell_type": "markdown",
   "metadata": {},
   "source": [
    "$$ M = \\frac{1}{h^2} \\begin{vmatrix}\n",
    "s_0 + s_1 & -s_1  &  &  & \\\\\n",
    "-s_1 & s_1 + s_2 & -s_2 & & \\\\\n",
    " & -s_2 &  s_2 + s_3 &  -s_3 & \\\\\n",
    "  &  \\ddots  & \\ddots & \\ddots & \\\\\n",
    "\\end{vmatrix}$$"
   ]
  },
  {
   "cell_type": "code",
   "execution_count": 57,
   "metadata": {},
   "outputs": [],
   "source": [
    "def sj_values(h):\n",
    "    j_limit = 1/h\n",
    "    j = 0\n",
    "    s_array = []\n",
    "    while j < j_limit:\n",
    "        s = h + (h**2)*(j + 1/2)\n",
    "        s_array.append(s) \n",
    "        j += 1\n",
    "\n",
    "    return s_array\n",
    "\n",
    "def tridiagonal_matrix(h):\n",
    "    s_array = sj_values(h)\n",
    "    main_diag = []\n",
    "    sec_diag = []\n",
    "    for i in range(len(s_array)):\n",
    "        if i < (len(s_array)-1):\n",
    "            main_diag.append(s_array[i] + s_array[i + 1])\n",
    "        if i>0 and i < (len(s_array) - 1):\n",
    "            sec_diag.append((-1)*s_array[i])\n",
    "        \n",
    "    \n",
    "    main_diag = np.array(main_diag)\n",
    "    sec_diag = np.array(sec_diag)\n",
    "    d = np.diag(main_diag)\n",
    "    s_1 = np.diag(sec_diag, k=1)\n",
    "    s_2 = np.diag(sec_diag, k=-1)\n",
    "    matrix = d + s_1 + s_2\n",
    "    matrix = matrix*(1/(h**2))\n",
    "\n",
    "    return matrix, len(s_array)\n",
    "        \n"
   ]
  },
  {
   "cell_type": "markdown",
   "metadata": {},
   "source": [
    "Definimos dos funciones para la construir la matriz tridiagonal, la primera encuentra todos los valores $s_j$ dentro del intervalo y la segunda crea las diagonales de la matriz. La diagonal principal la encuentra sumando $s_j + s_{j + 1}$ desde $j = 0$ hasta $j = 1/h - 1$. La otra diagonal que es la misma para arriba y abajo de la diagonal principal es el negativo de $s_j$ desde $j = 0$ hasta $j = 1/h - 2$. Se construyen tres matrices con las diagonales y se suman para obtener la matriz tridiagonal."
   ]
  },
  {
   "cell_type": "code",
   "execution_count": 58,
   "metadata": {},
   "outputs": [],
   "source": [
    "def linearSystem(h):\n",
    "    matrix = tridiagonal_matrix(h)[0]\n",
    "    dim = tridiagonal_matrix(h)[1] - 1\n",
    "\n",
    "    b = [h]*dim \n",
    "    b = np.transpose(np.matrix(np.array(b)))\n",
    "\n",
    "    matrix_inverse = np.linalg.inv(matrix)\n",
    "    c = matrix_inverse*b\n",
    "\n",
    "    return c\n"
   ]
  },
  {
   "cell_type": "markdown",
   "metadata": {},
   "source": [
    "Para resolver el sistema $Mc = b$, construimos el vector $b$ que corresponde a un vector columna de dimnesión $\\frac{1}{h} - 1$ y obtenemos la inversa de $M$ para resolver $c = M^{-1} b$. "
   ]
  },
  {
   "cell_type": "markdown",
   "metadata": {},
   "source": [
    "Ahora creamos una función para graficar los coeficientes obtenidos. "
   ]
  },
  {
   "cell_type": "code",
   "execution_count": 95,
   "metadata": {},
   "outputs": [
    {
     "data": {
      "image/png": "[encoded data removed]",
      "text/plain": [
       "<Figure size 640x480 with 1 Axes>"
      ]
     },
     "metadata": {},
     "output_type": "display_data"
    }
   ],
   "source": [
    "\n",
    "def h_plot(h):\n",
    "    c = linearSystem(h)\n",
    "    c = np.transpose(c)\n",
    "    y = c.tolist()[0]\n",
    "    y.insert(0, 0)\n",
    "    y.append(0)\n",
    "    \n",
    "    x = []\n",
    "    i = 0\n",
    "\n",
    "    while i < 1:\n",
    "        i = round(i, 2)\n",
    "        x.append(i)\n",
    "        i += h\n",
    "    \n",
    "    x.append(1.0)\n",
    "\n",
    "    plot_label = \"h = \" + str(h)\n",
    "    plt.plot(x,y, label= plot_label)\n",
    "\n",
    "    return x, y, len(x), len(y)\n",
    "\n",
    "def show_results(h):\n",
    "    c = h_plot(h)\n",
    "    plt.show()\n",
    "    print(c)\n",
    "\n",
    "\n",
    "def all_h_plots(h_array):\n",
    "    for h in h_array:\n",
    "        h_plot(h)\n",
    "    plt.legend()\n",
    "    plt.show()\n",
    "    return None\n",
    "\n",
    "h_array = [0.2, 0.1, 0.05, 0.01]\n",
    "\n",
    "all_h_plots(h_array)\n"
   ]
  }
 ],
 "metadata": {
  "kernelspec": {
   "display_name": "Python 3.9.5 64-bit",
   "language": "python",
   "name": "python3"
  },
  "language_info": {
   "codemirror_mode": {
    "name": "ipython",
    "version": 3
   },
   "file_extension": ".py",
   "mimetype": "text/x-python",
   "name": "python",
   "nbconvert_exporter": "python",
   "pygments_lexer": "ipython3",
   "version": "3.9.5"
  },
  "orig_nbformat": 4,
  "vscode": {
   "interpreter": {
    "hash": "f9f85f796d01129d0dd105a088854619f454435301f6ffec2fea96ecbd9be4ac"
   }
  }
 },
 "nbformat": 4,
 "nbformat_minor": 2
}
