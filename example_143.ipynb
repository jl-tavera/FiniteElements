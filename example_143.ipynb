{
 "cells": [
  {
   "cell_type": "markdown",
   "metadata": {},
   "source": [
    "## *Ejemplo 14.3*"
   ]
  },
  {
   "cell_type": "markdown",
   "metadata": {},
   "source": [
    "Consider the boundary value problem"
   ]
  },
  {
   "cell_type": "markdown",
   "metadata": {},
   "source": [
    "$$  -\\frac{d}{dx}(x + 1) \\frac{du}{dx} = 1 \\; \\; \\;  \\; \\; \\; \\; \\; \\;  \\; \\; \\;  \\; \\; \\; \\; \\; \\;  \\; \\; \\; u(0)=0 \\; \\; \\;  \\; \\; \\; \\; \\; \\;  \\; \\; \\;  \\; \\; \\; \\; \\; \\;  \\; \\; \\; u(1)=0 $$"
   ]
  },
  {
   "cell_type": "markdown",
   "metadata": {},
   "source": [
    "The explicit solution is easily found by direct integration:"
   ]
  },
  {
   "cell_type": "markdown",
   "metadata": {},
   "source": [
    "$$ u(x) = -x + \\frac{\\log(x + 1)}{\\log 2}$$"
   ]
  },
  {
   "cell_type": "markdown",
   "metadata": {},
   "source": [
    "It minimizes the associated quadratic functional"
   ]
  },
  {
   "cell_type": "markdown",
   "metadata": {},
   "source": [
    "$$ \\mathcal{P}[u] = \\int_{0}^{l} [\\frac{1}{2}(x+1)u'(x^2) -u(x) ] dx    $$"
   ]
  },
  {
   "cell_type": "markdown",
   "metadata": {},
   "source": [
    "over all possible functions $ u \\in {C}^{-1}$ that satisfy the given boundary conditions. The finite\n",
    "element system (14.7) has coefficient matrix given by (14.13) and right hand side (14.16),\n",
    "where"
   ]
  },
  {
   "cell_type": "markdown",
   "metadata": {},
   "source": [
    "$$ s_j = \\int_{x_j}^{x_{j + 1}} (1 + x)dx = h(1 + x_j) + \\frac{1}{2}h^2 = h + h^2(j + \\frac{1}{2} ) \\quad \\quad \\quad b_j = \\int_{x_j}^{x_{j + 1}} 1 dx = h$$"
   ]
  },
  {
   "cell_type": "markdown",
   "metadata": {},
   "source": [
    "The resulting solution is plotted in Figure 14.3. The first three graphs contain, respectively,\n",
    "5, 10, 20 points in the mesh, so that h = .2, .1, .05, while the last plots the exact solution\n",
    "(14.20). Even when computed on rather coarse meshes, the finite element approximation\n",
    "is quite respectable."
   ]
  }
 ],
 "metadata": {
  "kernelspec": {
   "display_name": "Python 3.9.9 64-bit",
   "language": "python",
   "name": "python3"
  },
  "language_info": {
   "name": "python",
   "version": "3.9.9"
  },
  "orig_nbformat": 4,
  "vscode": {
   "interpreter": {
    "hash": "aee8b7b246df8f9039afb4144a1f6fd8d2ca17a180786b69acc140d282b71a49"
   }
  }
 },
 "nbformat": 4,
 "nbformat_minor": 2
}
