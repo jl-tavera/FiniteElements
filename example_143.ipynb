{
 "cells": [
  {
   "cell_type": "markdown",
   "metadata": {},
   "source": [
    "## *Ejemplo 14.3*"
   ]
  },
  {
   "cell_type": "markdown",
   "metadata": {},
   "source": [
    "Consider the boundary value problem"
   ]
  },
  {
   "cell_type": "markdown",
   "metadata": {},
   "source": [
    "$$  -\\frac{d}{dx}(x + 1) \\frac{du}{dx} = 1 \\quad \\quad \\quad  u(0)=0 \\quad \\quad \\quad  u(1)=0 $$"
   ]
  },
  {
   "cell_type": "markdown",
   "metadata": {},
   "source": [
    "The explicit solution is easily found by direct integration:"
   ]
  },
  {
   "cell_type": "markdown",
   "metadata": {},
   "source": [
    "$$ u(x) = -x + \\frac{\\log(x + 1)}{\\log 2}$$"
   ]
  },
  {
   "cell_type": "markdown",
   "metadata": {},
   "source": [
    "It minimizes the associated quadratic functional"
   ]
  },
  {
   "cell_type": "markdown",
   "metadata": {},
   "source": [
    "$$ \\mathcal{P}[u] = \\int_{0}^{l} [\\frac{1}{2}(x+1)u'(x^2) -u(x) ] dx    $$"
   ]
  },
  {
   "cell_type": "markdown",
   "metadata": {},
   "source": [
    "over all possible functions $ u \\in {C}^{1}$ that satisfy the given boundary conditions. The finite\n",
    "element system (14.7) has coefficient matrix given by (14.13) and right hand side (14.16),\n",
    "where"
   ]
  },
  {
   "cell_type": "markdown",
   "metadata": {},
   "source": [
    "$$ s_j = \\int_{x_j}^{x_{j + 1}} (1 + x)dx = h(1 + x_j) + \\frac{1}{2}h^2 = h + h^2(j + \\frac{1}{2} ) \\quad \\quad \\quad b_j = \\int_{x_j}^{x_{j + 1}} 1 dx = h$$"
   ]
  },
  {
   "cell_type": "markdown",
   "metadata": {},
   "source": [
    "The resulting solution is plotted in Figure 14.3. The first three graphs contain, respectively,\n",
    "5, 10, 20 points in the mesh, so that h = .2, .1, .05, while the last plots the exact solution\n",
    "(14.20). Even when computed on rather coarse meshes, the finite element approximation\n",
    "is quite respectable."
   ]
  },
  {
   "cell_type": "markdown",
   "metadata": {},
   "source": [
    "Construyamos la Matrix tridiagonal M para cada uno de los tres casos.LLamemos a estas $M_1, M_2, M_3$ para $h_1 = 0.2, h_2 = 0.1, h_3 = 0.05$ respectivamente. Las dimensiones de estas serán: $M_1$ una matriz simétrica $4 \\times 4$, $M_2$ una matriz simétrica $9 \\times 9$ y $M_3$ una matriz simétrica $19 \\times 19$"
   ]
  },
  {
   "cell_type": "code",
   "execution_count": 2,
   "metadata": {},
   "outputs": [
    {
     "ename": "ModuleNotFoundError",
     "evalue": "No module named 'numpy'",
     "output_type": "error",
     "traceback": [
      "\u001b[0;31m---------------------------------------------------------------------------\u001b[0m",
      "\u001b[0;31mModuleNotFoundError\u001b[0m                       Traceback (most recent call last)",
      "Cell \u001b[0;32mIn [2], line 1\u001b[0m\n\u001b[0;32m----> 1\u001b[0m \u001b[38;5;28;01mimport\u001b[39;00m \u001b[38;5;21;01mnumpy\u001b[39;00m \u001b[38;5;28;01mas\u001b[39;00m \u001b[38;5;21;01mnp\u001b[39;00m\n\u001b[1;32m      3\u001b[0m A \u001b[38;5;241m=\u001b[39m np\u001b[38;5;241m.\u001b[39mmatrix(\u001b[38;5;124m'\u001b[39m\u001b[38;5;124m1 2 3; 4 5 6\u001b[39m\u001b[38;5;124m'\u001b[39m)\n\u001b[1;32m      4\u001b[0m \u001b[38;5;28mprint\u001b[39m(A)\n",
      "\u001b[0;31mModuleNotFoundError\u001b[0m: No module named 'numpy'"
     ]
    }
   ],
   "source": [
    "import numpy as np\n",
    "\n",
    "A = np.matrix('1 2 3; 4 5 6')\n",
    "print(A)"
   ]
  }
 ],
 "metadata": {
  "kernelspec": {
   "display_name": "Python 3.9.9 64-bit",
   "language": "python",
   "name": "python3"
  },
  "language_info": {
   "codemirror_mode": {
    "name": "ipython",
    "version": 3
   },
   "file_extension": ".py",
   "mimetype": "text/x-python",
   "name": "python",
   "nbconvert_exporter": "python",
   "pygments_lexer": "ipython3",
   "version": "3.9.9"
  },
  "orig_nbformat": 4,
  "vscode": {
   "interpreter": {
    "hash": "aee8b7b246df8f9039afb4144a1f6fd8d2ca17a180786b69acc140d282b71a49"
   }
  }
 },
 "nbformat": 4,
 "nbformat_minor": 2
}
