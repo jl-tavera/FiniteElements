{
 "cells": [
  {
   "cell_type": "markdown",
   "metadata": {},
   "source": [
    "## *Ejemplo 14.3*"
   ]
  },
  {
   "cell_type": "markdown",
   "metadata": {},
   "source": [
    "Consider the boundary value problem"
   ]
  },
  {
   "cell_type": "markdown",
   "metadata": {},
   "source": [
    "$$  -\\frac{d}{dx}(x + 1) \\frac{du}{dx} = 1 \\quad \\quad \\quad  u(0)=0 \\quad \\quad \\quad  u(1)=0 $$"
   ]
  },
  {
   "cell_type": "markdown",
   "metadata": {},
   "source": [
    "The explicit solution is easily found by direct integration:"
   ]
  },
  {
   "cell_type": "markdown",
   "metadata": {},
   "source": [
    "$$ u(x) = -x + \\frac{\\log(x + 1)}{\\log 2}$$"
   ]
  },
  {
   "cell_type": "markdown",
   "metadata": {},
   "source": [
    "It minimizes the associated quadratic functional"
   ]
  },
  {
   "cell_type": "markdown",
   "metadata": {},
   "source": [
    "$$ \\mathcal{P}[u] = \\int_{0}^{l} [\\frac{1}{2}(x+1)u'(x^2) -u(x) ] dx    $$"
   ]
  },
  {
   "cell_type": "markdown",
   "metadata": {},
   "source": [
    "over all possible functions $ u \\in {C}^{1}$ that satisfy the given boundary conditions. The finite\n",
    "element system (14.7) has coefficient matrix given by (14.13) and right hand side (14.16),\n",
    "where"
   ]
  },
  {
   "cell_type": "markdown",
   "metadata": {},
   "source": [
    "$$ s_j = \\int_{x_j}^{x_{j + 1}} (1 + x)dx = h(1 + x_j) + \\frac{1}{2}h^2 = h + h^2(j + \\frac{1}{2} ) \\quad \\quad \\quad b_j = \\int_{x_j}^{x_{j + 1}} 1 dx = h$$"
   ]
  },
  {
   "cell_type": "markdown",
   "metadata": {},
   "source": [
    "The resulting solution is plotted in Figure 14.3. The first three graphs contain, respectively,\n",
    "5, 10, 20 points in the mesh, so that h = .2, .1, .05, while the last plots the exact solution\n",
    "(14.20). Even when computed on rather coarse meshes, the finite element approximation\n",
    "is quite respectable."
   ]
  },
  {
   "cell_type": "markdown",
   "metadata": {},
   "source": [
    "Construyamos la Matrix tridiagonal M para cada uno de los tres casos.LLamemos a estas $M_1, M_2, M_3$ para $h_1 = 0.2, h_2 = 0.1, h_3 = 0.05$ respectivamente. Las dimensiones de estas serán: $M_1$ una matriz simétrica $4 \\times 4$, $M_2$ una matriz simétrica $9 \\times 9$ y $M_3$ una matriz simétrica $19 \\times 19$"
   ]
  },
  {
   "cell_type": "markdown",
   "metadata": {},
   "source": [
    "Instalamos el paquete de numpy en el Jupyter Notebook"
   ]
  },
  {
   "cell_type": "code",
   "execution_count": null,
   "metadata": {},
   "outputs": [],
   "source": [
    "import sys\n",
    "!{sys.executable} -m pip install --user numpy"
   ]
  },
  {
   "cell_type": "markdown",
   "metadata": {},
   "source": [
    "Recordemos que la forma de la matriz tritiangular dado $ s_j = h + h^2(j + \\frac{1}{2}) $ es igual a:"
   ]
  },
  {
   "cell_type": "markdown",
   "metadata": {},
   "source": [
    "$$ M = \\frac{1}{h^2} \\begin{vmatrix}\n",
    "s_0 + s_1 & -s_1  &  &  & \\\\\n",
    "-s_1 & s_1 + s_2 & -s_2 & & \\\\\n",
    " & -s_2 &  s_2 + s_3 &  -s_3 & \\\\\n",
    "  &  \\ddots  & \\ddots & \\ddots & \\\\\n",
    "\\end{vmatrix}$$"
   ]
  },
  {
   "cell_type": "code",
   "execution_count": 39,
   "metadata": {},
   "outputs": [],
   "source": [
    "import numpy as np\n",
    "np.set_printoptions(suppress=True)\n",
    "\n",
    "def sj_values(h):\n",
    "    j_limit = 1/h\n",
    "    j = 0\n",
    "    s_array = []\n",
    "    while j < j_limit:\n",
    "        s = h + (h**2)*(j + 1/2)\n",
    "        s_array.append(s) \n",
    "        j += 1\n",
    "\n",
    "    return s_array\n",
    "\n",
    "def tridiagonal_matrix(h):\n",
    "    s_array = sj_values(h)\n",
    "    main_diag = []\n",
    "    sec_diag = []\n",
    "    for i in range(len(s_array)):\n",
    "        if i < (len(s_array)-1):\n",
    "            main_diag.append(s_array[i] + s_array[i + 1])\n",
    "        if i>0 and i < (len(s_array) - 1):\n",
    "            sec_diag.append((-1)*s_array[i])\n",
    "        \n",
    "    \n",
    "    main_diag = np.array(main_diag)\n",
    "    sec_diag = np.array(sec_diag)\n",
    "    d = np.diag(main_diag)\n",
    "    s_1 = np.diag(sec_diag, k=1)\n",
    "    s_2 = np.diag(sec_diag, k=-1)\n",
    "    matrix = d + s_1 + s_2\n",
    "\n",
    "    return matrix\n",
    "        \n"
   ]
  },
  {
   "cell_type": "markdown",
   "metadata": {},
   "source": [
    "Definimos dos funciones para la construir la matriz tridiagonal, la primera encuentra todos los valores $s_j$ dentro del intervalo y la segunda crea las diagonales de la matriz. La diagonal principal la encuentra sumando $s_j + s_{j + 1}$ desde $j = 0$ hasta $j = 1/h - 1$. La otra diagonal que es la misma para arriba y abajo de la diagonal principal es el negativo de $s_j$ desde $j = 0$ hasta $j = 1/h - 2$. Se construyen tres matrices con las diagonales y se suman para obtener la matriz tridiagonal."
   ]
  }
 ],
 "metadata": {
  "kernelspec": {
   "display_name": "Python 3.9.9 64-bit",
   "language": "python",
   "name": "python3"
  },
  "language_info": {
   "codemirror_mode": {
    "name": "ipython",
    "version": 3
   },
   "file_extension": ".py",
   "mimetype": "text/x-python",
   "name": "python",
   "nbconvert_exporter": "python",
   "pygments_lexer": "ipython3",
   "version": "3.9.9"
  },
  "orig_nbformat": 4,
  "vscode": {
   "interpreter": {
    "hash": "aee8b7b246df8f9039afb4144a1f6fd8d2ca17a180786b69acc140d282b71a49"
   }
  }
 },
 "nbformat": 4,
 "nbformat_minor": 2
}
